{
 "cells": [
  {
   "cell_type": "markdown",
   "metadata": {},
   "source": [
    "# Exercise 1 - meta-nodes and offline pipelines \n",
    "\n",
    "For your first iteration, here is what you will build:\n",
    "<img src=\"hello_world.png\" alt='hello_world'>"
   ]
  },
  {
   "cell_type": "markdown",
   "metadata": {},
   "source": [
    "Import usefull packages"
   ]
  },
  {
   "cell_type": "code",
   "execution_count": 1,
   "metadata": {},
   "outputs": [],
   "source": [
    "from timeflux.helpers.testing import Looper, ReadData\n",
    "from timeflux.core.branch import Branch\n",
    "from utils.tutorial_utils import load_standalone_graph\n",
    "from utils.idisplay import pygments_css, display_yaml\n",
    "\n",
    "import logging\n",
    "logging.basicConfig()\n",
    "logger = logging.getLogger()\n",
    "logger.setLevel(logging.DEBUG)\n"
   ]
  },
  {
   "cell_type": "markdown",
   "metadata": {},
   "source": [
    "## Load the YAML graph "
   ]
  },
  {
   "cell_type": "code",
   "execution_count": 2,
   "metadata": {},
   "outputs": [
    {
     "data": {
      "text/html": [
       "<div class=\"highlight\"><pre><span></span><span class=\"nt\">graphs</span><span class=\"p\">:</span>\n",
       "\n",
       "  <span class=\"p p-Indicator\">-</span> <span class=\"nt\">nodes</span><span class=\"p\">:</span>\n",
       "    <span class=\"p p-Indicator\">-</span> <span class=\"nt\">id</span><span class=\"p\">:</span> <span class=\"l l-Scalar l-Scalar-Plain\">random</span>\n",
       "      <span class=\"nt\">module</span><span class=\"p\">:</span> <span class=\"l l-Scalar l-Scalar-Plain\">timeflux.nodes.random</span>\n",
       "      <span class=\"nt\">class</span><span class=\"p\">:</span> <span class=\"l l-Scalar l-Scalar-Plain\">Random</span>\n",
       "      <span class=\"nt\">params</span><span class=\"p\">:</span>\n",
       "        <span class=\"nt\">columns</span><span class=\"p\">:</span> <span class=\"l l-Scalar l-Scalar-Plain\">5</span>\n",
       "        <span class=\"nt\">rows_min</span><span class=\"p\">:</span> <span class=\"l l-Scalar l-Scalar-Plain\">1</span>\n",
       "        <span class=\"nt\">rows_max</span><span class=\"p\">:</span> <span class=\"l l-Scalar l-Scalar-Plain\">10</span>\n",
       "        <span class=\"nt\">value_min</span><span class=\"p\">:</span> <span class=\"l l-Scalar l-Scalar-Plain\">0</span>\n",
       "        <span class=\"nt\">value_max</span><span class=\"p\">:</span> <span class=\"l l-Scalar l-Scalar-Plain\">5</span>\n",
       "        <span class=\"nt\">seed</span><span class=\"p\">:</span> <span class=\"l l-Scalar l-Scalar-Plain\">1</span>\n",
       "    <span class=\"p p-Indicator\">-</span> <span class=\"nt\">id</span><span class=\"p\">:</span> <span class=\"l l-Scalar l-Scalar-Plain\">add</span>\n",
       "      <span class=\"nt\">module</span><span class=\"p\">:</span> <span class=\"l l-Scalar l-Scalar-Plain\">timeflux_example.nodes.arithmetic</span>\n",
       "      <span class=\"nt\">class</span><span class=\"p\">:</span> <span class=\"l l-Scalar l-Scalar-Plain\">Add</span>\n",
       "      <span class=\"nt\">params</span><span class=\"p\">:</span>\n",
       "        <span class=\"nt\">value</span><span class=\"p\">:</span> <span class=\"l l-Scalar l-Scalar-Plain\">1</span>\n",
       "    <span class=\"p p-Indicator\">-</span> <span class=\"nt\">id</span><span class=\"p\">:</span> <span class=\"l l-Scalar l-Scalar-Plain\">display_random</span>\n",
       "      <span class=\"nt\">module</span><span class=\"p\">:</span> <span class=\"l l-Scalar l-Scalar-Plain\">timeflux.nodes.debug</span>\n",
       "      <span class=\"nt\">class</span><span class=\"p\">:</span> <span class=\"l l-Scalar l-Scalar-Plain\">Display</span>\n",
       "    <span class=\"p p-Indicator\">-</span> <span class=\"nt\">id</span><span class=\"p\">:</span> <span class=\"l l-Scalar l-Scalar-Plain\">display_add</span>\n",
       "      <span class=\"nt\">module</span><span class=\"p\">:</span> <span class=\"l l-Scalar l-Scalar-Plain\">timeflux.nodes.debug</span>\n",
       "      <span class=\"nt\">class</span><span class=\"p\">:</span> <span class=\"l l-Scalar l-Scalar-Plain\">Display</span>\n",
       "    <span class=\"nt\">edges</span><span class=\"p\">:</span>\n",
       "    <span class=\"p p-Indicator\">-</span> <span class=\"nt\">source</span><span class=\"p\">:</span> <span class=\"l l-Scalar l-Scalar-Plain\">random</span>\n",
       "      <span class=\"nt\">target</span><span class=\"p\">:</span> <span class=\"l l-Scalar l-Scalar-Plain\">add</span>\n",
       "    <span class=\"p p-Indicator\">-</span> <span class=\"nt\">source</span><span class=\"p\">:</span> <span class=\"l l-Scalar l-Scalar-Plain\">random</span>\n",
       "      <span class=\"nt\">target</span><span class=\"p\">:</span> <span class=\"l l-Scalar l-Scalar-Plain\">display_random</span>\n",
       "    <span class=\"p p-Indicator\">-</span> <span class=\"nt\">source</span><span class=\"p\">:</span> <span class=\"l l-Scalar l-Scalar-Plain\">add</span>\n",
       "      <span class=\"nt\">target</span><span class=\"p\">:</span> <span class=\"l l-Scalar l-Scalar-Plain\">display_add</span>\n",
       "</pre></div>\n"
      ]
     },
     "metadata": {},
     "output_type": "display_data"
    }
   ],
   "source": [
    "graph_path = 'graphs/hello_world.yaml'\n",
    "graph = load_standalone_graph(graph_path)\n",
    "display_yaml(graph_path); "
   ]
  },
  {
   "cell_type": "markdown",
   "metadata": {},
   "source": [
    "# Run from command line \n",
    "In a terminal, activate your timeflux environment and \n",
    "```\n",
    "conda activate timeflux\n",
    "```\n",
    "and run the following \n",
    "```\n",
    "timeflux graphs/hello_world.yaml -d\n",
    "```\n",
    "\n",
    "If you're not fealing comfortable with terminals, you can run the following cell and interupt the kernel to stop the process (Kernel --> Interrupt)."
   ]
  },
  {
   "cell_type": "code",
   "execution_count": 3,
   "metadata": {},
   "outputs": [
    {
     "name": "stdout",
     "output_type": "stream",
     "text": [
      "\u001b[34m2019-12-05 15:07:38,071\u001b[0m \u001b[90mINFO      \u001b[0m timeflux     22746    \u001b[32mMainProcess     \u001b[0m \u001b[36mTimeflux 0.3.3+121.g2fdae47.dirty\u001b[0m\n",
      "\u001b[34m2019-12-05 15:07:38,082\u001b[0m \u001b[90mDEBUG     \u001b[0m manager      22746    \u001b[32mMainProcess     \u001b[0m \u001b[37mWorker spawned with PID 22753\u001b[0m\n",
      "\u001b[34m2019-12-05 15:07:38,438\u001b[0m \u001b[90mDEBUG     \u001b[0m debug        22753    \u001b[32mProcess-1       \u001b[0m \u001b[37m\n",
      "                             0  1  2  3  4\n",
      "2019-12-05 15:07:37.431592  5  3  4  0  1\n",
      "2019-12-05 15:07:37.764925  3  5  0  0  1\n",
      "2019-12-05 15:07:38.098258  4  5  4  1  2\u001b[0m\n",
      "\u001b[34m2019-12-05 15:07:38,455\u001b[0m \u001b[90mDEBUG     \u001b[0m debug        22753    \u001b[32mProcess-1       \u001b[0m \u001b[37m\n",
      "                             0  1  2  3  4\n",
      "2019-12-05 15:07:37.431592  6  4  5  1  2\n",
      "2019-12-05 15:07:37.764925  4  6  1  1  2\n",
      "2019-12-05 15:07:38.098258  5  6  5  2  3\u001b[0m\n",
      "\u001b[34m2019-12-05 15:07:39,438\u001b[0m \u001b[90mDEBUG     \u001b[0m debug        22753    \u001b[32mProcess-1       \u001b[0m \u001b[37m\n",
      "                             0  1  2  3  4\n",
      "2019-12-05 15:07:38.432195  4  5  2  4  3\n",
      "2019-12-05 15:07:38.532195  4  2  4  5  2\n",
      "2019-12-05 15:07:38.632195  4  1  1  0  5\n",
      "2019-12-05 15:07:38.732195  1  1  5  1  1\n",
      "2019-12-05 15:07:38.832195  0  4  1  0  0\n",
      "2019-12-05 15:07:38.932195  5  3  2  1  0\n",
      "2019-12-05 15:07:39.032195  3  5  1  1  3\n",
      "2019-12-05 15:07:39.132195  4  0  1  3  4\n",
      "2019-12-05 15:07:39.232195  2  4  0  5  3\n",
      "2019-12-05 15:07:39.332195  1  2  0  4  1\u001b[0m\n",
      "\u001b[34m2019-12-05 15:07:39,445\u001b[0m \u001b[90mDEBUG     \u001b[0m debug        22753    \u001b[32mProcess-1       \u001b[0m \u001b[37m\n",
      "                             0  1  2  3  4\n",
      "2019-12-05 15:07:38.432195  5  6  3  5  4\n",
      "2019-12-05 15:07:38.532195  5  3  5  6  3\n",
      "2019-12-05 15:07:38.632195  5  2  2  1  6\n",
      "2019-12-05 15:07:38.732195  2  2  6  2  2\n",
      "2019-12-05 15:07:38.832195  1  5  2  1  1\n",
      "2019-12-05 15:07:38.932195  6  4  3  2  1\n",
      "2019-12-05 15:07:39.032195  4  6  2  2  4\n",
      "2019-12-05 15:07:39.132195  5  1  2  4  5\n",
      "2019-12-05 15:07:39.232195  3  5  1  6  4\n",
      "2019-12-05 15:07:39.332195  2  3  1  5  2\u001b[0m\n",
      "\u001b[34m2019-12-05 15:07:40,440\u001b[0m \u001b[90mDEBUG     \u001b[0m debug        22753    \u001b[32mProcess-1       \u001b[0m \u001b[37m\n",
      "                             0  1  2  3  4\n",
      "2019-12-05 15:07:39.433259  2  2  1  0  1\n",
      "2019-12-05 15:07:39.933259  3  5  4  3  5\u001b[0m\n",
      "\u001b[34m2019-12-05 15:07:40,447\u001b[0m \u001b[90mDEBUG     \u001b[0m debug        22753    \u001b[32mProcess-1       \u001b[0m \u001b[37m\n",
      "                             0  1  2  3  4\n",
      "2019-12-05 15:07:39.433259  3  3  2  1  2\n",
      "2019-12-05 15:07:39.933259  4  6  5  4  6\u001b[0m\n",
      "\u001b[34m2019-12-05 15:07:41,440\u001b[0m \u001b[90mDEBUG     \u001b[0m debug        22753    \u001b[32mProcess-1       \u001b[0m \u001b[37m\n",
      "                             0  1  2  3  4\n",
      "2019-12-05 15:07:40.433337  1  3  0  0  2\n",
      "2019-12-05 15:07:40.633337  2  1  3  4  2\n",
      "2019-12-05 15:07:40.833337  0  0  1  1  5\n",
      "2019-12-05 15:07:41.033337  3  0  0  5  5\n",
      "2019-12-05 15:07:41.233337  4  5  2  4  3\u001b[0m\n",
      "\u001b[34m2019-12-05 15:07:41,447\u001b[0m \u001b[90mDEBUG     \u001b[0m debug        22753    \u001b[32mProcess-1       \u001b[0m \u001b[37m\n",
      "                             0  1  2  3  4\n",
      "2019-12-05 15:07:40.433337  2  4  1  1  3\n",
      "2019-12-05 15:07:40.633337  3  2  4  5  3\n",
      "2019-12-05 15:07:40.833337  1  1  2  2  6\n",
      "2019-12-05 15:07:41.033337  4  1  1  6  6\n",
      "2019-12-05 15:07:41.233337  5  6  3  5  4\u001b[0m\n",
      "^C\n",
      "\u001b[34m2019-12-05 15:07:41,603\u001b[0m \u001b[90mINFO      \u001b[0m manager      22746    \u001b[32mMainProcess     \u001b[0m \u001b[36mInterrupting\u001b[0m\n",
      "\u001b[34m2019-12-05 15:07:41,602\u001b[0m \u001b[90mDEBUG     \u001b[0m worker       22753    \u001b[32mProcess-1       \u001b[0m \u001b[37mInterrupting\u001b[0m\n",
      "\u001b[34m2019-12-05 15:07:41,603\u001b[0m \u001b[90mINFO      \u001b[0m worker       22753    \u001b[32mProcess-1       \u001b[0m \u001b[36mTerminating\u001b[0m\n",
      "\u001b[34m2019-12-05 15:07:41,707\u001b[0m \u001b[90mINFO      \u001b[0m timeflux     22746    \u001b[32mMainProcess     \u001b[0m \u001b[36mTerminated\u001b[0m\n"
     ]
    }
   ],
   "source": [
    "!timeflux graphs/hello_world.yaml -d"
   ]
  },
  {
   "cell_type": "markdown",
   "metadata": {},
   "source": [
    "# Use a meta-node to prototype offline\n",
    "\n",
    "When one is prototyping a pipeline (developping custom nodes, writting a graph, .. ), it is very usefull to be able to loop manually, allowing him to use debug breakpoints, and check that each update of each node produces the result he expects.\n",
    "\n",
    "Here, we use the concept of [branch](https://doc.timeflux.io/latest/extending/branches.html) to load a graph offline and mimick the scheduler *manually*, by `setting` the input ports and `getting` the output ports. "
   ]
  },
  {
   "cell_type": "code",
   "execution_count": 4,
   "metadata": {},
   "outputs": [
    {
     "name": "stderr",
     "output_type": "stream",
     "text": [
      "DEBUG:timeflux.timeflux.nodes.debug.Display:\n",
      "                             0  1  2  3  4\n",
      "1969-12-31 23:59:59.000000  5  3  4  0  1\n",
      "1969-12-31 23:59:59.333334  3  5  0  0  1\n",
      "1969-12-31 23:59:59.666667  4  5  4  1  2\n",
      "INFO:numexpr.utils:Note: NumExpr detected 12 cores but \"NUMEXPR_MAX_THREADS\" not set, so enforcing safe limit of 8.\n",
      "INFO:numexpr.utils:NumExpr defaulting to 8 threads.\n",
      "DEBUG:timeflux.timeflux.nodes.debug.Display:\n",
      "                             0  1  2  3  4\n",
      "1969-12-31 23:59:59.000000  6  4  5  1  2\n",
      "1969-12-31 23:59:59.333334  4  6  1  1  2\n",
      "1969-12-31 23:59:59.666667  5  6  5  2  3\n"
     ]
    }
   ],
   "source": [
    "from timeflux.core.registry import Registry\n",
    "Registry.cycle_start = 0\n",
    "Registry.rate = 1\n",
    "\n",
    "branch = Branch(graph=graph)\n",
    "branch.update()\n"
   ]
  },
  {
   "cell_type": "code",
   "execution_count": 5,
   "metadata": {},
   "outputs": [
    {
     "data": {
      "text/html": [
       "<div>\n",
       "<style scoped>\n",
       "    .dataframe tbody tr th:only-of-type {\n",
       "        vertical-align: middle;\n",
       "    }\n",
       "\n",
       "    .dataframe tbody tr th {\n",
       "        vertical-align: top;\n",
       "    }\n",
       "\n",
       "    .dataframe thead th {\n",
       "        text-align: right;\n",
       "    }\n",
       "</style>\n",
       "<table border=\"1\" class=\"dataframe\">\n",
       "  <thead>\n",
       "    <tr style=\"text-align: right;\">\n",
       "      <th></th>\n",
       "      <th>0</th>\n",
       "      <th>1</th>\n",
       "      <th>2</th>\n",
       "      <th>3</th>\n",
       "      <th>4</th>\n",
       "    </tr>\n",
       "  </thead>\n",
       "  <tbody>\n",
       "    <tr>\n",
       "      <th>1969-12-31 23:59:59.000000</th>\n",
       "      <td>6</td>\n",
       "      <td>4</td>\n",
       "      <td>5</td>\n",
       "      <td>1</td>\n",
       "      <td>2</td>\n",
       "    </tr>\n",
       "    <tr>\n",
       "      <th>1969-12-31 23:59:59.333334</th>\n",
       "      <td>4</td>\n",
       "      <td>6</td>\n",
       "      <td>1</td>\n",
       "      <td>1</td>\n",
       "      <td>2</td>\n",
       "    </tr>\n",
       "    <tr>\n",
       "      <th>1969-12-31 23:59:59.666667</th>\n",
       "      <td>5</td>\n",
       "      <td>6</td>\n",
       "      <td>5</td>\n",
       "      <td>2</td>\n",
       "      <td>3</td>\n",
       "    </tr>\n",
       "  </tbody>\n",
       "</table>\n",
       "</div>"
      ],
      "text/plain": [
       "                            0  1  2  3  4\n",
       "1969-12-31 23:59:59.000000  6  4  5  1  2\n",
       "1969-12-31 23:59:59.333334  4  6  1  1  2\n",
       "1969-12-31 23:59:59.666667  5  6  5  2  3"
      ]
     },
     "execution_count": 5,
     "metadata": {},
     "output_type": "execute_result"
    }
   ],
   "source": [
    "branch.get_port('add', port_id='o').data"
   ]
  }
 ],
 "metadata": {
  "kernelspec": {
   "display_name": "Python 3",
   "language": "python",
   "name": "python3"
  },
  "language_info": {
   "codemirror_mode": {
    "name": "ipython",
    "version": 3
   },
   "file_extension": ".py",
   "mimetype": "text/x-python",
   "name": "python",
   "nbconvert_exporter": "python",
   "pygments_lexer": "ipython3",
   "version": "3.7.5"
  }
 },
 "nbformat": 4,
 "nbformat_minor": 2
}
